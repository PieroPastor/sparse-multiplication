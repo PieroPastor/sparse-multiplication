{
  "cells": [
    {
      "cell_type": "markdown",
      "metadata": {
        "id": "view-in-github",
        "colab_type": "text"
      },
      "source": [
        "<a href=\"https://colab.research.google.com/github/PieroPastor/sparse-multiplication/blob/main/sparse_multiplication.ipynb\" target=\"_parent\"><img src=\"https://colab.research.google.com/assets/colab-badge.svg\" alt=\"Open In Colab\"/></a>"
      ]
    },
    {
      "cell_type": "code",
      "source": [
        "! sudo apt install nasm"
      ],
      "metadata": {
        "id": "zANgONkX1-vm"
      },
      "id": "zANgONkX1-vm",
      "execution_count": null,
      "outputs": []
    },
    {
      "cell_type": "code",
      "execution_count": 2,
      "id": "53f8ba53-1019-4ac0-aa8b-ce98708870ce",
      "metadata": {
        "id": "53f8ba53-1019-4ac0-aa8b-ce98708870ce"
      },
      "outputs": [],
      "source": [
        "import os\n",
        "import math\n",
        "import time\n",
        "import ctypes\n",
        "import numpy as np\n",
        "import scipy.sparse as sp\n",
        "from itertools import repeat\n",
        "from multiprocessing import Pool"
      ]
    },
    {
      "cell_type": "code",
      "source": [
        "def compressed_sparse_row_traditional(x):\n",
        "  compressed = []\n",
        "  row_pointer = []\n",
        "  flag = True\n",
        "  for i in range(len(x)):\n",
        "    for j in range(len(x[i])):\n",
        "      if x[i][j] != 0:\n",
        "        if flag:\n",
        "          row_pointer.insert(len(row_pointer), len(compressed))\n",
        "          flag = False\n",
        "        compressed.insert(len(compressed), [i, j, x[i][j]])\n",
        "    flag = True\n",
        "  compressed = np.array(compressed)\n",
        "  return np.array(row_pointer).astype(np.float32), np.array(compressed[:, 0]).astype(np.float32), np.array(compressed[:, 1]).astype(np.float32), np.array(compressed[:, 2]).astype(np.float32)"
      ],
      "metadata": {
        "id": "mwWiNWMy5mAb"
      },
      "id": "mwWiNWMy5mAb",
      "execution_count": 3,
      "outputs": []
    },
    {
      "cell_type": "code",
      "execution_count": 4,
      "id": "dfae4c41-77d4-42fb-80b0-7e0cc105e1a4",
      "metadata": {
        "id": "dfae4c41-77d4-42fb-80b0-7e0cc105e1a4"
      },
      "outputs": [],
      "source": [
        "def compressed_sparse_row(x):\n",
        "  compressed = []\n",
        "  cant_per_row = []\n",
        "  for i in range(len(x)):\n",
        "    counter = 0\n",
        "    for j in range(len(x[i])):\n",
        "      if x[i][j] != 0:\n",
        "        compressed.insert(len(compressed), [i, j, x[i][j]])\n",
        "        counter += 1\n",
        "    cant_per_row.insert(len(cant_per_row), counter)\n",
        "  compressed = np.array(compressed)\n",
        "  return len(x), len(x[0]), np.array(cant_per_row).astype(np.int32), np.array(compressed[:, 0]).astype(np.float32), np.array(compressed[:, 1]).astype(np.float32), np.array(compressed[:, 2]).astype(np.float32)"
      ]
    },
    {
      "cell_type": "code",
      "execution_count": 5,
      "id": "c7268b62-3e70-48f0-b4b0-d1cb8f189be2",
      "metadata": {
        "id": "c7268b62-3e70-48f0-b4b0-d1cb8f189be2"
      },
      "outputs": [],
      "source": [
        "def decompressed_sparse_row(row, col, val, cant_rows, cant_cols):\n",
        "  sparse_new = np.zeros((cant_rows, cant_cols)).astype(np.float32)\n",
        "  counter = 0\n",
        "  for i in range(int(max(row))+1):\n",
        "    for j in range(int(max(col))+1):\n",
        "      if counter < len(row) and i == row[counter] and j == col[counter]:\n",
        "        sparse_new[i][j] = val[counter]\n",
        "        counter += 1\n",
        "  return sparse_new"
      ]
    },
    {
      "cell_type": "code",
      "execution_count": 6,
      "id": "e9219d51-4f64-478b-b870-bb1325d35834",
      "metadata": {
        "id": "e9219d51-4f64-478b-b870-bb1325d35834"
      },
      "outputs": [],
      "source": [
        "def matriz_vector(cant_per_row, col, val, vector):\n",
        "  sol = np.zeros((int(max(row))+1), ).astype(np.float32)\n",
        "  sumador = 0\n",
        "  for i in range(int(max(row))+1):\n",
        "    for j in range(cant_per_row[i]):\n",
        "      sol[i] += val[j + int(sumador)] * vector[int(col[j + int(sumador)])]\n",
        "    sumador += cant_per_row[i]\n",
        "  return sol"
      ]
    },
    {
      "cell_type": "code",
      "source": [
        "def matriz_vector_traditional(row, col, val, vector):\n",
        "  sol = np.zeros(len(row)).astype(np.float32)\n",
        "  for i in range(len(row)-1):\n",
        "    for j in range(int(row[i]), int(row[i+1])): #Se usa como tope el siguiente puntero\n",
        "      sol[i] += val[j] * vector[int(col[j])]\n",
        "  for i in range(int(row[len(row)-1]), len(col)): #Se itera especialmente para el último puntero\n",
        "    sol[len(row)-1] += val[i] * vector[int(col[i])]\n",
        "  return sol"
      ],
      "metadata": {
        "id": "bBFEDZV5EbcR"
      },
      "id": "bBFEDZV5EbcR",
      "execution_count": 36,
      "outputs": []
    },
    {
      "cell_type": "code",
      "execution_count": 7,
      "id": "fbe71f9a-128f-460e-892a-c7baeca86418",
      "metadata": {
        "colab": {
          "base_uri": "https://localhost:8080/"
        },
        "id": "fbe71f9a-128f-460e-892a-c7baeca86418",
        "outputId": "0e41d709-4f98-4907-b934-7bc54916864b"
      },
      "outputs": [
        {
          "output_type": "stream",
          "name": "stdout",
          "text": [
            "Writing simd_section.asm\n"
          ]
        }
      ],
      "source": [
        "%%file simd_section.asm\n",
        "section .text\n",
        "    global simd_section\n",
        ";rdi <- *col\n",
        ";rsi <- *val\n",
        ";rdx <- *vector\n",
        ";rcx <- size\n",
        "simd_section:\n",
        "    xorps xmm0, xmm0 ;El sumador\n",
        "    mov r9, 0 ;Será mi índice\n",
        "    cmp r9, rcx\n",
        "    jl bucle_sumador\n",
        "ret\n",
        "\n",
        "bucle_sumador:\n",
        "    xorps xmm1, xmm1 ;Guarda los valores de la matriz\n",
        "    xorps xmm2, xmm2 ;Guarda los valores del vector\n",
        "    mov r10, rcx\n",
        "    sub r10, r9\n",
        "    cmp r10, 4\n",
        "    jl enviar_no_simd\n",
        "    movups xmm1, [rsi + r9*4]\n",
        "    mov r10, rcx\n",
        "    mov rcx, 4\n",
        "    jmp guardar_vector\n",
        "\n",
        "enviar_no_simd:\n",
        "    movss xmm3, [rsi + r9*4]\n",
        "    movss xmm1, xmm3\n",
        "    cvtss2si r12, [rdi + r9*4]\n",
        "    movss xmm3, [rdx + r12*4]\n",
        "    movss xmm2, xmm3\n",
        "    shufps xmm1, xmm1, 00111001b\n",
        "    shufps xmm2, xmm2, 00111001b\n",
        "    inc r9\n",
        "    cmp r9, rcx\n",
        "    jl enviar_no_simd\n",
        "    jmp fin_bucle\n",
        "\n",
        "guardar_vector:\n",
        "    cvtss2si r12, [rdi + r9*4]\n",
        "    movss xmm3, [rdx + r12*4]\n",
        "    movss xmm2, xmm3\n",
        "    shufps xmm2, xmm2, 00111001b\n",
        "    inc r9\n",
        "    ;dec r10\n",
        "    ;cmp r10, 0\n",
        "    ;jg guardar_vector\n",
        "    loop guardar_vector\n",
        "    mov rcx, r10 ;Regresa rcx a la normalidad\n",
        "    jmp fin_bucle\n",
        "\n",
        "fin_bucle:\n",
        "    mulps xmm1, xmm2\n",
        "    haddps xmm1, xmm1\n",
        "    haddps xmm1, xmm1\n",
        "    addss xmm0, xmm1\n",
        "    cmp r9, rcx ;Ya se le sumaron 4, o lo que restaba menor a 4 en sus bucles respectivos\n",
        "    jl bucle_sumador\n",
        "    ret"
      ]
    },
    {
      "cell_type": "code",
      "execution_count": 8,
      "id": "437e236c-b2e2-483a-907e-9265cb2af6d6",
      "metadata": {
        "id": "437e236c-b2e2-483a-907e-9265cb2af6d6"
      },
      "outputs": [],
      "source": [
        "! nasm -f elf64 simd_section.asm -o simd_section.o"
      ]
    },
    {
      "cell_type": "code",
      "execution_count": 9,
      "id": "6b0e342b-1175-4fd8-b523-809e066c5376",
      "metadata": {
        "colab": {
          "base_uri": "https://localhost:8080/"
        },
        "id": "6b0e342b-1175-4fd8-b523-809e066c5376",
        "outputId": "1ca9b26f-33e6-4402-c5ca-ae08126cac85"
      },
      "outputs": [
        {
          "output_type": "stream",
          "name": "stdout",
          "text": [
            "Writing multithreading_section.c\n"
          ]
        }
      ],
      "source": [
        "%%file multithreading_section.c\n",
        "#include <stdio.h>\n",
        "#include <stdlib.h>\n",
        "#include <pthread.h>\n",
        "\n",
        "extern float simd_section(float *col, float *val, float *vector, int size);\n",
        "\n",
        "typedef struct th_info{\n",
        "    pthread_t thread;\n",
        "    int size;\n",
        "    int id;\n",
        "    float *col;\n",
        "    float *val;\n",
        "    float *vector;\n",
        "    float suma;\n",
        "} th_info;\n",
        "\n",
        "void *pth_func(void *args){\n",
        "    th_info *th_info_args = (th_info*) args;\n",
        "    th_info_args->suma = simd_section(th_info_args->col, th_info_args->val, th_info_args->vector, th_info_args->size);\n",
        "    return NULL;\n",
        "}\n",
        "\n",
        "float multithreading_vector(int n, float *col, float *val, float *vector, int sumador, int ths){\n",
        "    float suma=0;\n",
        "    int size=n/ths;\n",
        "    if(n > ths)size = n/ths;\n",
        "    else if(n > 0){\n",
        "        size = 1;\n",
        "        ths = n;\n",
        "    }\n",
        "    th_info threads[ths];\n",
        "\n",
        "    for(int i=0; i < ths; i++){\n",
        "        if(i == ths-1) threads[i].size = size + (n-(ths*size)); //Da el residuo como extra\n",
        "        else threads[i].size = size;\n",
        "        threads[i].id = i;\n",
        "        threads[i].col = col + i*size + sumador;\n",
        "        threads[i].val = val + i*size + sumador;\n",
        "        threads[i].vector = vector;\n",
        "        threads[i].suma = 0;\n",
        "    }\n",
        "\n",
        "    pth_func((void *)&threads[0]);\n",
        "\n",
        "    if(ths > 1){\n",
        "        for(size_t i=1; i < ths; i++) pthread_create(&threads[i].thread, NULL, pth_func, (void*)&threads[i]);\n",
        "        for(size_t i=1; i < ths; i++) pthread_join(threads[i].thread, NULL);\n",
        "    }\n",
        "\n",
        "    for(int i=0; i < ths; i++) suma += threads[i].suma;\n",
        "\n",
        "    return suma;\n",
        "}\n",
        "\n",
        "void matriz_vector(int *repeats, int len_rep, float *col, float *val, float *vector, float *sol, int ths){\n",
        "    int sumador=0;\n",
        "    for(int i=0; i < len_rep; i++){\n",
        "        sol[i] = multithreading_vector(repeats[i], col, val, vector, sumador, ths);\n",
        "        sumador += repeats[i];\n",
        "    }\n",
        "}"
      ]
    },
    {
      "cell_type": "code",
      "execution_count": 10,
      "id": "5a9d5817-c5ad-4f17-ab8b-003a74871c5a",
      "metadata": {
        "id": "5a9d5817-c5ad-4f17-ab8b-003a74871c5a"
      },
      "outputs": [],
      "source": [
        "! gcc -shared -fPIC simd_section.o multithreading_section.c -o pmultithreading_c_simd.so -pthread"
      ]
    },
    {
      "cell_type": "code",
      "execution_count": 11,
      "id": "95380980-5759-4c1c-8262-40825866854a",
      "metadata": {
        "id": "95380980-5759-4c1c-8262-40825866854a"
      },
      "outputs": [],
      "source": [
        "def pmultithreading_c_simd():\n",
        "  lib = ctypes.CDLL('./pmultithreading_c_simd.so')\n",
        "  lib.matriz_vector.argtypes = [np.ctypeslib.ndpointer(dtype = np.int32),\n",
        "                                ctypes.c_int,\n",
        "                                np.ctypeslib.ndpointer(dtype = np.float32),\n",
        "                                np.ctypeslib.ndpointer(dtype = np.float32),\n",
        "                                np.ctypeslib.ndpointer(dtype = np.float32),\n",
        "                                np.ctypeslib.ndpointer(dtype = np.float32),\n",
        "                                ctypes.c_int]\n",
        "  return lib.matriz_vector"
      ]
    },
    {
      "cell_type": "code",
      "source": [
        "%%file matriz_vector_traditional_simd.asm\n",
        "section .text\n",
        "    global matriz_vector_traditional_simd\n",
        ";rdi <- row\n",
        ";rsi <- col\n",
        ";rdx <- val\n",
        ";rcx <- vector\n",
        ";r8 <- sol\n",
        ";r9 <- n_ptrs, n\n",
        ";Se tiene un algoritmo que mezcla SIMD y al mismo tiempo operaciones normales para ciertas operaciones, ya que, no se puede predecir cuantos valores\n",
        ";diferente de cero habrá en cada columna de la matriz.\n",
        "matriz_vector_traditional_simd:\n",
        "    movss xmm1, [r9 + 4] ;Guarda n en xmm1 ya que se mandó como doubles y se debe de convertir\n",
        "    movss xmm0, [r9] ;Guarda n_ptrs\n",
        "    cvtss2si r9, xmm0 ;Los convierte a enteros\n",
        "    cvtss2si r10, xmm1\n",
        "    dec r9 ;Le resta uno porque el bucle es hasta n_ptrs-1\n",
        "    mov r12, 0 ;Valor de i\n",
        "    cmp r12, r9\n",
        "    jl bucle1\n",
        "ret\n",
        "\n",
        "bucle1:\n",
        "    xorps xmm0, xmm0 ;Se limpian todos los registros para evitar fallos en las operaciones\n",
        "    xorps xmm1, xmm1\n",
        "    xorps xmm2, xmm2\n",
        "    xorps xmm3, xmm3\n",
        "    xorps xmm4, xmm4\n",
        "    movss xmm15, [rdi + r12*4] ;Pasa la información del puntero a fila y la pasa a entero\n",
        "    cvtss2si r13, xmm15\n",
        "    movss xmm15, [rdi + r12*4 + 4] ;Pasa el siguiente puntero a fila como tope y lo pasa a entero\n",
        "    cvtss2si r14, xmm15\n",
        "    cmp r13, r14\n",
        "    push r12\n",
        "    jl bucle2\n",
        "    jmp fin_bucle2\n",
        "\n",
        "bucle2:\n",
        "    push r13 ;Guarda el contador r13, ya que, se necesitan más registros\n",
        "    mov r12, r14\n",
        "    sub r12, r13\n",
        "    mov rax, r12\n",
        "    cmp r12, 4 ;Para ver si faltan menos de 4 manda especial, es decir, usará los registros xmmx como cola y almacenará la información ahí hasta donde haya\n",
        "    jl enviar_especial\n",
        "    mov r12, 4\n",
        "    movups xmm1, [rdx + r13*4] ;Manda cuatro valores con una sola operacion\n",
        "    movups xmm2, [rsi + r13*4]\n",
        "    mov r13, r12\n",
        "    jmp guardar_datos_vector\n",
        "\n",
        "enviar_especial:\n",
        "    xorps xmm4, xmm4 ;Lo almacena de esa forma para también poder operar con mulps, ya que, como los sobrantes es cero no hay problema y aún se ahorra tiempo\n",
        "    movss xmm4, [rdx + r13*4] ;Se necesita el auxiliar porque el movss cuando se trabaja con un puntero limpia todo el registro, por lo que la cola se borra\n",
        "    movss xmm1, xmm4\n",
        "    movss xmm4, [rsi + r13*4]\n",
        "    movss xmm2, xmm4\n",
        "    shufps xmm1, xmm1, 00111001b ;Envía el valor guardado al final y el siguiente para guardarlo ahí (una cola)\n",
        "    shufps xmm2, xmm2, 00111001b\n",
        "    dec r12\n",
        "    inc r13\n",
        "    cmp r12, 0 ;Hasta que se ingrese la cantidad de data que haya\n",
        "    jg enviar_especial\n",
        "    mov rbx, 4 ;Para mantener todo alineado y operar correctamente se deben de completar las vueltas a la cola por lo que la diferencia con 4 es la cantidad de vueltas que faltan.\n",
        "    sub rbx, rax\n",
        "    jmp organizar_especial\n",
        "\n",
        "organizar_especial:\n",
        "    shufps xmm1, xmm1, 00111001b ;Realiza solo vueltas para alinear los datos\n",
        "    shufps xmm2, xmm2, 00111001b\n",
        "    dec rbx\n",
        "    cmp rbx, 0\n",
        "    jg organizar_especial\n",
        "    mov r13, rax\n",
        "    mov r12, rax\n",
        "    jmp guardar_datos_vector\n",
        "\n",
        "guardar_datos_vector:\n",
        "    cvtss2si r15, xmm2 ;Realiza la misma lógica para guardar todos los datos necesarios del vector en un registro y así operarlo junto aprovechando el SIMD\n",
        "    movss xmm4, [rcx + r15*4]\n",
        "    movss xmm3, xmm4\n",
        "    shufps xmm2, xmm2, 00111001b ;Pasa a la siguiente columna\n",
        "    shufps xmm3, xmm3, 00111001b ;Para guardar el siguiente dato de vector\n",
        "    dec r12\n",
        "    cmp r12, 0\n",
        "    jg guardar_datos_vector\n",
        "    mov r12, 4\n",
        "    sub r12, r13\n",
        "    cmp r13, 4 ;En caso haya habido menos de 4 valores también se tendrán que alinear los datos\n",
        "    jl organizar_datos\n",
        "    jmp fin_bucle2\n",
        "\n",
        "organizar_datos:\n",
        "    shufps xmm3, xmm3, 00111001b\n",
        "    shufps xmm2, xmm2, 00111001b\n",
        "    dec r12\n",
        "    cmp r12, 0\n",
        "    jg organizar_datos\n",
        "    jmp fin_bucle2\n",
        "\n",
        "fin_bucle2:\n",
        "    pop r13 ;Regresa r13 a la normalidad\n",
        "    mulps xmm3, xmm1 ;Multiplica los datos del vector y la matriz y los suma entre ellos\n",
        "    haddps xmm3, xmm3\n",
        "    haddps xmm3, xmm3\n",
        "    addss xmm0, xmm3 ;Se agrega al sumador\n",
        "    add r13, 4 ;Se suma cuatro porque se avanzo esa cantidad si o si\n",
        "    xorps xmm1, xmm1 ;Se limpian los registros\n",
        "    xorps xmm2, xmm2\n",
        "    xorps xmm3, xmm3\n",
        "    cmp r13, r14\n",
        "    jl bucle2\n",
        "    pop r12 ;Se retira r12 para usarlo y guardar en soluciones el xmm0\n",
        "    movss [r8 + r12*4], xmm0\n",
        "    inc r12\n",
        "    cmp r10, -1 ;Se tiene esta bandera especial para poder usar el código desde otro punto fuera del bucle principal\n",
        "    je fin_algoritmo\n",
        "    cmp r12, r9\n",
        "    jl bucle1\n",
        "    jmp segunda_parte\n",
        "\n",
        "segunda_parte:\n",
        "    movss xmm15, [rdi + r9*4] ;Como falta el valor para n_ptrs porque se evitó, se setean los registros y se salta al bucle2 como si fuera una función\n",
        "    xorps xmm0, xmm0\n",
        "    cvtss2si r13, xmm15 ;Pasa el [n_ptrs-1]\n",
        "    mov r14, r10 ;El final es la cantidad de columnas\n",
        "    mov r12, r9\n",
        "    push r12 ;Guarda r12 más que nada por el futuro popeo y que así el PC se mantenga intacto y pueda retornar\n",
        "    mov r10, -1 ;Servirá como una bandera\n",
        "    xorps xmm0, xmm0\n",
        "    xorps xmm1, xmm1\n",
        "    xorps xmm2, xmm2\n",
        "    xorps xmm3, xmm3\n",
        "    xorps xmm4, xmm4\n",
        "    jmp bucle2\n",
        "\n",
        "fin_algoritmo:\n",
        "    ret"
      ],
      "metadata": {
        "colab": {
          "base_uri": "https://localhost:8080/"
        },
        "id": "x1WCUsjF1EKB",
        "outputId": "ef8e0ec1-5b65-4a04-fc01-d72c2164ca37"
      },
      "id": "x1WCUsjF1EKB",
      "execution_count": 12,
      "outputs": [
        {
          "output_type": "stream",
          "name": "stdout",
          "text": [
            "Writing matriz_vector_traditional_simd.asm\n"
          ]
        }
      ]
    },
    {
      "cell_type": "code",
      "source": [
        "! nasm -f elf64 matriz_vector_traditional_simd.asm -o matriz_vector_traditional_simd.o"
      ],
      "metadata": {
        "id": "IjXgJJ8f1JtB"
      },
      "id": "IjXgJJ8f1JtB",
      "execution_count": 13,
      "outputs": []
    },
    {
      "cell_type": "code",
      "source": [
        "%%file matriz_vector.c\n",
        "extern void matriz_vector_traditional_simd(float *row, float *col, float *val, float *vector, float *sol, float *tam);\n",
        "void matriz_vector(float *row, float *col, float *val, float *vector, float *sol, int *repeats, int n, int cant_data){\n",
        "    int sumador=0;\n",
        "    for(int i=0; i < n; i++){\n",
        "        for(int j=0; j < repeats[i]; j++){\n",
        "            sol[i] += val[j + sumador] * vector[(int)col[j + sumador]];\n",
        "        }\n",
        "        sumador += repeats[i];\n",
        "    }\n",
        "    return;\n",
        "}\n",
        "void matriz_vector_traditional(float *row, float *col, float *val, float *vector, float *sol, int n_ptrs, int n){\n",
        "    for(int i=0; i < n_ptrs-1; i++){\n",
        "        for(int j=(int)row[i]; j < (int)row[i+1]; j++) sol[i] += val[j] * vector[(int)col[j]];\n",
        "    }\n",
        "    for(int i=(int)row[n_ptrs-1]; i < n; i++) sol[n_ptrs-1] += val[i] * vector[(int)col[i]];\n",
        "    return;\n",
        "}"
      ],
      "metadata": {
        "colab": {
          "base_uri": "https://localhost:8080/"
        },
        "id": "EO4iGkMX1Kfl",
        "outputId": "9c92fd48-5534-44dd-d840-f7191d14811b"
      },
      "id": "EO4iGkMX1Kfl",
      "execution_count": 14,
      "outputs": [
        {
          "output_type": "stream",
          "name": "stdout",
          "text": [
            "Writing matriz_vector.c\n"
          ]
        }
      ]
    },
    {
      "cell_type": "code",
      "source": [
        "! gcc -shared -fPIC matriz_vector_traditional_simd.o matriz_vector.c -o matriz_vector.so"
      ],
      "metadata": {
        "id": "RVtVs_641TVa"
      },
      "id": "RVtVs_641TVa",
      "execution_count": 15,
      "outputs": []
    },
    {
      "cell_type": "code",
      "source": [
        "def matriz_vector_c(repeats, row, col, val, vector):\n",
        "  sol = np.zeros((int(max(row))+1),).astype(np.float32)\n",
        "  lib = ctypes.CDLL('./matriz_vector.so')\n",
        "  lib.matriz_vector.argtypes = [np.ctypeslib.ndpointer(dtype = np.float32),\n",
        "                                np.ctypeslib.ndpointer(dtype = np.float32),\n",
        "                                np.ctypeslib.ndpointer(dtype = np.float32),\n",
        "                                np.ctypeslib.ndpointer(dtype = np.float32),\n",
        "                                np.ctypeslib.ndpointer(dtype = np.float32),\n",
        "                                np.ctypeslib.ndpointer(dtype = np.int32),\n",
        "                                ctypes.c_int, ctypes.c_int]\n",
        "  lib.matriz_vector(row, col, val, vector, sol, repeats, (int(max(row))+1), len(row))\n",
        "  return sol"
      ],
      "metadata": {
        "id": "O-cnEUgN1aD2"
      },
      "id": "O-cnEUgN1aD2",
      "execution_count": 16,
      "outputs": []
    },
    {
      "cell_type": "code",
      "source": [
        "def matriz_vector_traditional_c(row, col, val, vector):\n",
        "  sol = np.zeros(len(row),).astype(np.float32)\n",
        "  lib = ctypes.CDLL('./matriz_vector.so')\n",
        "  lib.matriz_vector_traditional.argtypes = [np.ctypeslib.ndpointer(dtype = np.float32),\n",
        "                                np.ctypeslib.ndpointer(dtype = np.float32),\n",
        "                                np.ctypeslib.ndpointer(dtype = np.float32),\n",
        "                                np.ctypeslib.ndpointer(dtype = np.float32),\n",
        "                                np.ctypeslib.ndpointer(dtype = np.float32),\n",
        "                                ctypes.c_int, ctypes.c_int]\n",
        "  lib.matriz_vector_traditional(row, col, val, vector, sol, len(row), len(col))\n",
        "  return sol"
      ],
      "metadata": {
        "id": "Bu4hWYQ16Urd"
      },
      "id": "Bu4hWYQ16Urd",
      "execution_count": 17,
      "outputs": []
    },
    {
      "cell_type": "code",
      "source": [
        "def matriz_vector_traditional_simd(row, col, val, vector):\n",
        "  sol = np.zeros(len(row),).astype(np.float32)\n",
        "  lib = ctypes.CDLL('./matriz_vector.so')\n",
        "  lib.matriz_vector_traditional_simd.argtypes = [np.ctypeslib.ndpointer(dtype = np.float32),\n",
        "                                     np.ctypeslib.ndpointer(dtype = np.float32),\n",
        "                                     np.ctypeslib.ndpointer(dtype = np.float32),\n",
        "                                     np.ctypeslib.ndpointer(dtype = np.float32),\n",
        "                                     np.ctypeslib.ndpointer(dtype = np.float32),\n",
        "                                     np.ctypeslib.ndpointer(dtype = np.float32)]\n",
        "  lib.matriz_vector_traditional_simd(row, col, val, vector, sol, np.array([np.int32(len(row)), np.int32(len(col))]).astype(np.float32))\n",
        "  return sol"
      ],
      "metadata": {
        "id": "q81xAJ4Z1b0z"
      },
      "id": "q81xAJ4Z1b0z",
      "execution_count": 18,
      "outputs": []
    },
    {
      "cell_type": "code",
      "execution_count": 19,
      "id": "bbb73738-233e-43e3-a502-e12adcd75c8b",
      "metadata": {
        "id": "bbb73738-233e-43e3-a502-e12adcd75c8b"
      },
      "outputs": [],
      "source": [
        "def matriz_vector_multiprocessing_sub(repeats, len_rep, col, val, vector):\n",
        "  sol = np.zeros(len_rep).astype(np.float32) #len_rep por la cantidad de filas que habrá\n",
        "  matriz_vector_multithreading = pmultithreading_c_simd()\n",
        "  matriz_vector_multithreading(repeats, len_rep, col, val, vector, sol, os.cpu_count())\n",
        "  return sol\n",
        "\n",
        "#Se debe de optimizar mandando el cant_repeats como argumento, en lugar de calcularlo aquí dentro, es decir se debe hallar al descomponer la matriz\n",
        "def matriz_vector_multiprocessing(cant_repeats, row, col, val, vector):\n",
        "  #cant_repeats = [list(row).count(i) for i in range(int(max(row))+1)] #Crea un arreglo con la cantidad de datos diferentes a cero por fila\n",
        "  cpus = os.cpu_count()\n",
        "  chunk = 1\n",
        "  if cpus > max(row)+1: cpus = max(row)+1 #Si hay más procesadores que procesos necesarios, entonces se recorta\n",
        "  else: chunk = math.ceil((max(row)+1)/cpus) #Si hay menos, se divide en tantos procesos como procesadores y un chunk es un grupo de datos\n",
        "  cpus = int(cpus)\n",
        "  p = Pool(processes=cpus) #Inicializa el pool para multiprocessing\n",
        "  args = zip((cant_repeats[i*chunk:(i+1)*chunk] for i in range(cpus)), #Manda las cantidades de datos diferentes a cero en las respectivas filas\n",
        "             (len(cant_repeats[i*chunk:(i+1)*chunk]) for i in range(cpus)), #Manda el tamaño real de filas para evitar desbordamiento por el trabajo con chunks y saber como moverse\n",
        "             (col[sum(cant_repeats[0:i*chunk]):sum(cant_repeats[0:i*chunk])+sum(cant_repeats[i*chunk:(i+1)*chunk])] for i in range(0, cpus)), #Manda el grupo de columnas respectivas dentro de las filas, ya que está ordenado por las filas y columnas\n",
        "             (val[sum(cant_repeats[0:i*chunk]):sum(cant_repeats[0:i*chunk])+sum(cant_repeats[i*chunk:(i+1)*chunk])] for i in range(0, cpus)), #Misma lógica que para las columnas\n",
        "             repeat(vector)) #Envía el vector igual siempre porque se necesita para multiplicar\n",
        "  resultado = p.starmap(matriz_vector_multiprocessing_sub, args)\n",
        "  return np.concatenate(resultado)"
      ]
    },
    {
      "cell_type": "code",
      "execution_count": 20,
      "id": "840b4886-f05f-4637-aebf-c27f21ed0f6c",
      "metadata": {
        "id": "840b4886-f05f-4637-aebf-c27f21ed0f6c"
      },
      "outputs": [],
      "source": [
        "def matriz_vector_multiprocessing_sub_p(repeats, len_rep, col, val, vector):\n",
        "  sol = np.zeros(len_rep).astype(np.float32) #fin-ini por la cantidad de filas que habrá\n",
        "  sumador = 0\n",
        "  for i in range(len_rep): #Repite tantas filas hay por proceso\n",
        "    for j in range(repeats[i]): #Itera cuantos datos diferentes a cero haya en la fila ahorrando iteraciones innecesarias\n",
        "      sol[i] += val[j + int(sumador)] * vector[int(col[j + int(sumador)])] #Se salta los datos de filas anteriores con la función sum()\n",
        "    sumador += repeats[i]\n",
        "  return sol\n",
        "\n",
        "#Se debe de optimizar mandando el cant_repeats como argumento, en lugar de calcularlo aquí dentro, es decir se debe hallar al descomponer la matriz\n",
        "def matriz_vector_multiprocessing_p(cant_repeats, row, col, val, vector):\n",
        "  #cant_repeats = [list(row).count(i) for i in range(int(max(row))+1)] #Crea un arreglo con la cantidad de datos diferentes a cero por fila\n",
        "  cpus = os.cpu_count()\n",
        "  chunk = 1\n",
        "  if cpus > max(row)+1: cpus = max(row)+1 #Si hay más procesadores que procesos necesarios, entonces se recorta\n",
        "  else: chunk = math.ceil((max(row)+1)/cpus) #Si hay menos, se divide en tantos procesos como procesadores y un chunk es un grupo de datos\n",
        "  cpus = int(cpus)\n",
        "  p = Pool(processes=cpus) #Inicializa el pool para multiprocessing\n",
        "  args = zip((cant_repeats[i*chunk:(i+1)*chunk] for i in range(cpus)), #Manda las cantidades de datos diferentes a cero en las respectivas filas\n",
        "             (len(cant_repeats[i*chunk:(i+1)*chunk]) for i in range(cpus)), #Manda el tamaño real de filas para evitar desbordamiento por el trabajo con chunks y saber como moverse\n",
        "             (col[sum(cant_repeats[0:i*chunk]):sum(cant_repeats[0:i*chunk])+sum(cant_repeats[i*chunk:(i+1)*chunk])] for i in range(0, cpus)), #Manda el grupo de columnas respectivas dentro de las filas, ya que está ordenado por las filas y columnas\n",
        "             (val[sum(cant_repeats[0:i*chunk]):sum(cant_repeats[0:i*chunk])+sum(cant_repeats[i*chunk:(i+1)*chunk])] for i in range(0, cpus)), #Misma lógica que para las columnas\n",
        "             repeat(vector)) #Envía el vector igual siempre porque se necesita para multiplicar\n",
        "  resultado = p.starmap(matriz_vector_multiprocessing_sub_p, args)\n",
        "  return np.concatenate(resultado)"
      ]
    },
    {
      "cell_type": "code",
      "source": [
        "def matriz_vector_multiprocessing_sub_traditional_p(ini, fin, row, len_rep, col, val, vector):\n",
        "  sol = np.zeros(len_rep).astype(np.float32) #fin-ini por la cantidad de filas que habrá\n",
        "  for i in range(ini, fin-1): #Repite tantas filas hay por proceso\n",
        "    if i-ini >= len_rep-1: break\n",
        "    for j in range(int(row[i]), int(row[i+1])): #Itera cuantos datos diferentes a cero haya en la fila ahorrando iteraciones innecesarias\n",
        "      sol[i-ini] += val[j] * vector[int(col[j])]\n",
        "  if fin <= len(row)-1: max = int(row[fin]) #Compara para saber si se encuentra en el último puntero global o no, y así enviar su respecitvo fin de bucle\n",
        "  else:\n",
        "    max = len(col)\n",
        "    fin = len(row)\n",
        "  for i in range(int(row[fin-1]), max):\n",
        "    sol[len_rep-1] += val[i] * vector[int(col[i])]\n",
        "  return sol\n",
        "\n",
        "def matriz_vector_multiprocessing_traditional_p(row, col, val, vector):\n",
        "  cpus = os.cpu_count()\n",
        "  chunk = 1\n",
        "  if cpus > (len(row)): cpus = (len(row)) #Si hay más procesadores que procesos necesarios, entonces se recorta\n",
        "  else: chunk = math.ceil((len(row))/cpus) #Si hay menos, se divide en tantos procesos como procesadores y un chunk es un grupo de datos\n",
        "  cpus = int(cpus)\n",
        "  p = Pool(processes=cpus) #Inicializa el pool para multiprocessing\n",
        "  args = zip((i*chunk for i in range(cpus)), #Argumento del índice donde empieza el proceso\n",
        "             ((i+1)*chunk for i in range(cpus)), #Argumento del índice donde acaba el proceso\n",
        "             repeat(row),\n",
        "             (len(row[i*chunk:(i+1)*chunk]) for i in range(cpus)),\n",
        "             repeat(col),\n",
        "             repeat(val),\n",
        "             repeat(vector))\n",
        "  resultado = p.starmap(matriz_vector_multiprocessing_sub_traditional_p, args)\n",
        "  return np.concatenate(resultado)"
      ],
      "metadata": {
        "id": "6YyONo4UAqO0"
      },
      "id": "6YyONo4UAqO0",
      "execution_count": 34,
      "outputs": []
    },
    {
      "cell_type": "code",
      "execution_count": 31,
      "id": "0ad00080-7245-4e06-a0b0-259fdcbcea91",
      "metadata": {
        "id": "0ad00080-7245-4e06-a0b0-259fdcbcea91"
      },
      "outputs": [],
      "source": [
        "m = 2**12\n",
        "n = 2**12\n",
        "sparse = sp.random(m, n, density=0.97, format='csr', dtype=np.float32).toarray()\n",
        "sparse *= 10 #Consigue datos entre [0, 10[\n",
        "vector = np.random.uniform(low=0, high=10, size=(n, )).astype(np.float32)"
      ]
    },
    {
      "cell_type": "code",
      "execution_count": 32,
      "id": "978f2795-67be-4083-a0c6-6c4c7737ab85",
      "metadata": {
        "id": "978f2795-67be-4083-a0c6-6c4c7737ab85"
      },
      "outputs": [],
      "source": [
        "cant_rows, cant_cols, cant_per_row, row, col, val = compressed_sparse_row(sparse)\n",
        "row_ptr_traditional, row_traditional, col_traditional, val_traditional = compressed_sparse_row_traditional(sparse)\n",
        "#print(sparse)\n",
        "#print(cant_per_row)\n",
        "#print(cant_per_row, row, col, val, vector)\n",
        "#n_sparse = decompressed_sparse_row(row, col, val, cant_rows, cant_cols)\n",
        "#print(n_sparse)\n",
        "#print(vector)"
      ]
    },
    {
      "cell_type": "code",
      "execution_count": 37,
      "id": "eb8af7a5-9124-44fd-9d1e-0139cf9497bc",
      "metadata": {
        "colab": {
          "base_uri": "https://localhost:8080/"
        },
        "id": "eb8af7a5-9124-44fd-9d1e-0139cf9497bc",
        "outputId": "430195c2-9fed-4a0d-cbf6-41309f5a5c67"
      },
      "outputs": [
        {
          "output_type": "stream",
          "name": "stdout",
          "text": [
            "20.62668320900002\n",
            "13.17312909799989\n",
            "3.535371230999999\n",
            "3.161788602000115\n",
            "20.88356924300001\n",
            "0.035435817000006864\n",
            "0.07831837500020811\n",
            "16.25348784200014\n"
          ]
        }
      ],
      "source": [
        "tic = time.perf_counter()\n",
        "mult_sec = matriz_vector(cant_per_row, col, val, vector)\n",
        "toc = time.perf_counter()\n",
        "print(toc-tic)\n",
        "#print(mult_sec)\n",
        "tic = time.perf_counter()\n",
        "mult_sec_trad = matriz_vector_traditional(row_ptr_traditional, col_traditional, val_traditional, vector)\n",
        "toc = time.perf_counter()\n",
        "print(toc-tic)\n",
        "#print(mult_sec_trad)\n",
        "tic = time.perf_counter()\n",
        "mult_opt = matriz_vector_multiprocessing(cant_per_row, row, col, val, vector)\n",
        "toc = time.perf_counter()\n",
        "print(toc-tic)\n",
        "#print(mult_opt)\n",
        "tic = time.perf_counter()\n",
        "mult_c = matriz_vector_c(cant_per_row, row, col, val, vector)\n",
        "toc = time.perf_counter()\n",
        "print(toc-tic)\n",
        "#print(mult_c)\n",
        "tic = time.perf_counter()\n",
        "mult_p = matriz_vector_multiprocessing_p(cant_per_row, row, col, val, vector)\n",
        "toc = time.perf_counter()\n",
        "print(toc-tic)\n",
        "#print(mult_p)\n",
        "tic = time.perf_counter()\n",
        "mult_simd = matriz_vector_traditional_simd(row_ptr_traditional, col_traditional, val_traditional, vector)\n",
        "toc = time.perf_counter()\n",
        "print(toc-tic)\n",
        "#print(mult_simd)\n",
        "tic = time.perf_counter()\n",
        "mult_c_traditional = matriz_vector_traditional_c(row_ptr_traditional, col_traditional, val_traditional, vector)\n",
        "toc = time.perf_counter()\n",
        "print(toc-tic)\n",
        "tic = time.perf_counter()\n",
        "resultado = matriz_vector_multiprocessing_traditional_p(row_ptr_traditional, col_traditional, val_traditional, vector)\n",
        "toc = time.perf_counter()\n",
        "print(toc-tic)\n",
        "#print(mult_c_traditional)"
      ]
    }
  ],
  "metadata": {
    "kernelspec": {
      "display_name": "Python 3 (ipykernel)",
      "language": "python",
      "name": "python3"
    },
    "language_info": {
      "codemirror_mode": {
        "name": "ipython",
        "version": 3
      },
      "file_extension": ".py",
      "mimetype": "text/x-python",
      "name": "python",
      "nbconvert_exporter": "python",
      "pygments_lexer": "ipython3",
      "version": "3.10.12"
    },
    "colab": {
      "provenance": [],
      "include_colab_link": true
    }
  },
  "nbformat": 4,
  "nbformat_minor": 5
}